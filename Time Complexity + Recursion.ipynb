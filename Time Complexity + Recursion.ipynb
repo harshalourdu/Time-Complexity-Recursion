{
 "cells": [
  {
   "cell_type": "markdown",
   "id": "cd646098-d724-48b7-907b-4c5e457c26a1",
   "metadata": {},
   "source": [
    "Problem 1 :\n",
    "def quicksort(arr):\n",
    "if len(arr) <= 1:\n",
    "return arr\n",
    "pivot = arr[len(arr) // 2]\n",
    "left = [x for x in arr if x < pivot]\n",
    "middle = [x for x in arr if x == pivot]\n",
    "right = [x for x in arr if x > pivot]\n",
    "return quicksort(left) + middle + quicksort(right)"
   ]
  },
  {
   "cell_type": "markdown",
   "id": "33917b3b-1318-4fa3-b55a-a57dba04318d",
   "metadata": {},
   "source": []
  },
  {
   "cell_type": "code",
   "execution_count": 2,
   "id": "a0af853b-d69c-4008-8dc5-b82428c86520",
   "metadata": {},
   "outputs": [
    {
     "name": "stdin",
     "output_type": "stream",
     "text": [
      "Enter the list of numbers:  1 2 3 4 5 6\n"
     ]
    },
    {
     "name": "stdout",
     "output_type": "stream",
     "text": [
      "Sorted list: [1, 2, 3, 4, 5, 6]\n"
     ]
    }
   ],
   "source": [
    "def quicksort(alist, start, end):\n",
    "    '''Sorts the list from indexes start to end - 1 inclusive.'''\n",
    "    if end - start > 1:\n",
    "        p = partition(alist, start, end)\n",
    "        quicksort(alist, start, p)\n",
    "        quicksort(alist, p + 1, end)\n",
    " \n",
    " \n",
    "def partition(alist, start, end):\n",
    "    pivot = alist[start]\n",
    "    i = start + 1\n",
    "    j = end - 1\n",
    " \n",
    "    while True:\n",
    "        while (i <= j and alist[i] <= pivot):\n",
    "            i = i + 1\n",
    "        while (i <= j and alist[j] >= pivot):\n",
    "            j = j - 1\n",
    " \n",
    "        if i <= j:\n",
    "            alist[i], alist[j] = alist[j], alist[i]\n",
    "        else:\n",
    "            alist[start], alist[j] = alist[j], alist[start]\n",
    "            return j\n",
    "\n",
    "alist = input('Enter the list of numbers: ').split()\n",
    "alist = [int(x) for x in alist]\n",
    "quicksort(alist, 0, len(alist))\n",
    "print('Sorted list: ', end='')\n",
    "print(alist)"
   ]
  },
  {
   "cell_type": "markdown",
   "id": "08efb5d7-8a9b-4eec-8165-915600b8cbd3",
   "metadata": {},
   "source": [
    "Problem 2 :\n",
    "def nested_loop_example(matrix):\n",
    "rows, cols = len(matrix), len(matrix[0])\n",
    "total = 0\n",
    "for i in range(rows):\n",
    "for j in range(cols):\n",
    "total += matrix[i][j]\n",
    "return total"
   ]
  },
  {
   "cell_type": "code",
   "execution_count": 5,
   "id": "3012d218-59a6-4e40-adf6-2f1abc484fe2",
   "metadata": {},
   "outputs": [],
   "source": [
    "from numpy import array\n",
    "A= array([[ 1, 4, 5 ],[ 3, 2, 9], [ 3,6, 2], [ 1,6, 8]])\n",
    "B=A.T\n",
    "\n",
    "BA= array([[ 0, 0, 0 ],[ 0,0, 0], [ 0,0, 0] ])\n",
    "\n",
    "for i in range(len(B)):\n",
    "   for j in range(len(A[0])):\n",
    "       for k in range(len(A)):\n",
    "           BA[i][j] += B[i][k] * A[k][j]"
   ]
  },
  {
   "cell_type": "markdown",
   "id": "0818267c-4244-4c87-8ff3-9f67564838fe",
   "metadata": {},
   "source": [
    "Problem 3 :\n",
    "def example_function(arr):\n",
    "result = 0\n",
    "for element in arr:\n",
    "result += element\n",
    "return result"
   ]
  },
  {
   "cell_type": "code",
   "execution_count": 6,
   "id": "1d345780-10a4-4f4f-a485-a859109b797d",
   "metadata": {},
   "outputs": [
    {
     "name": "stdout",
     "output_type": "stream",
     "text": [
      "6"
     ]
    }
   ],
   "source": [
    "if __name__ == '__main__':\n",
    "   \n",
    "    v = [34, 8, 10, 3, \n",
    "         2, 80, 30, 33, 1];\n",
    "    n = len(v);\n",
    "    maxFromEnd = [-38749432] * (n + 1);\n",
    " \n",
    "    # Create an array maxfromEnd\n",
    "    for i in range(n - 1, 0, -1):\n",
    "        maxFromEnd[i] = max(maxFromEnd[i + 1], \n",
    "                            v[i]);\n",
    " \n",
    "    result = 0;\n",
    " \n",
    "    for i in range(0, n):\n",
    "        low = i + 1; high = n - 1; ans = i;\n",
    " \n",
    "        while (low <= high):\n",
    "            mid = int((low + high) / 2);\n",
    " \n",
    "            if (v[i] <= maxFromEnd[mid]):\n",
    "               \n",
    "                # We store this as current\n",
    "                # answer and look for further\n",
    "                # larger number to the right side\n",
    "                ans = max(ans, mid);\n",
    "                low = mid + 1;\n",
    "            else:\n",
    "                high = mid - 1;        \n",
    " \n",
    "        # Keeping a track of the\n",
    "        # maximum difference in indices\n",
    "        result = max(result, ans - i);\n",
    "     \n",
    "    print(result, end = \"\");"
   ]
  },
  {
   "cell_type": "markdown",
   "id": "366bcd7b-d3e1-491d-980d-45840ac37039",
   "metadata": {},
   "source": [
    "Problem 4 :\n",
    "def longest_increasing_subsequence(nums):\n",
    "n = len(nums)\n",
    "lis = [1] * n\n",
    "for i in range(1, n):\n",
    "for j in range(0, i):\n",
    "if nums[i] > nums[j] and lis[i] < lis[j] + 1:\n",
    "lis[i] = lis[j] + 1\n",
    "return max(lis)"
   ]
  },
  {
   "cell_type": "code",
   "execution_count": 7,
   "id": "d1950a3b-7ec7-4642-a85f-7f2b47462cc4",
   "metadata": {},
   "outputs": [
    {
     "name": "stdout",
     "output_type": "stream",
     "text": [
      "Length of lis is 5\n"
     ]
    }
   ],
   "source": [
    "global maximum\n",
    " \n",
    " \n",
    "# To make use of recursive calls, this function must return\n",
    "# two things:\n",
    "# 1) Length of LIS ending with element arr[n-1]. We use\n",
    "# max_ending_here for this purpose\n",
    "# 2) Overall maximum as the LIS may end with an element\n",
    "# before arr[n-1] max_ref is used this purpose.\n",
    "# The value of LIS of full array of size n is stored in\n",
    "# *max_ref which is our final result\n",
    "def _lis(arr, n):\n",
    " \n",
    "    # To allow the access of global variable\n",
    "    global maximum\n",
    " \n",
    "    # Base Case\n",
    "    if n == 1:\n",
    "        return 1\n",
    " \n",
    "    # maxEndingHere is the length of LIS ending with arr[n-1]\n",
    "    maxEndingHere = 1\n",
    " \n",
    "    # Recursively get all LIS ending with\n",
    "    # arr[0], arr[1]..arr[n-2]\n",
    "    # If arr[i-1] is smaller than arr[n-1], and\n",
    "    # max ending with arr[n-1] needs to be updated,\n",
    "    # then update it\n",
    "    for i in range(1, n):\n",
    "        res = _lis(arr, i)\n",
    "        if arr[i-1] < arr[n-1] and res+1 > maxEndingHere:\n",
    "            maxEndingHere = res + 1\n",
    " \n",
    "    # Compare maxEndingHere with overall maximum. And\n",
    "    # update the overall maximum if needed\n",
    "    maximum = max(maximum, maxEndingHere)\n",
    " \n",
    "    return maxEndingHere\n",
    " \n",
    " \n",
    "def lis(arr):\n",
    " \n",
    "    # To allow the access of global variable\n",
    "    global maximum\n",
    " \n",
    "    # Length of arr\n",
    "    n = len(arr)\n",
    " \n",
    "    # Maximum variable holds the result\n",
    "    maximum = 1\n",
    " \n",
    "    # The function _lis() stores its result in maximum\n",
    "    _lis(arr, n)\n",
    "    return maximum\n",
    " \n",
    " \n",
    "# Driver program to test the above function\n",
    "if __name__ == '__main__':\n",
    "    arr = [10, 22, 9, 33, 21, 50, 41, 60]\n",
    "    n = len(arr)\n",
    " \n",
    "    # Function call\n",
    "    print(\"Length of lis is\", lis(arr))"
   ]
  },
  {
   "cell_type": "markdown",
   "id": "da0ddc2e-756e-4de8-a55f-dd1d23d85440",
   "metadata": {},
   "source": [
    "Problem 5 :\n",
    "def mysterious_function(arr):\n",
    "n = len(arr)\n",
    "result = 0\n",
    "for i in range(n):\n",
    "for j in range(i, n):\n",
    "result += arr[i] * arr[j]\n",
    "return result"
   ]
  },
  {
   "cell_type": "code",
   "execution_count": 8,
   "id": "683c6bd8-5b50-4c81-8973-75b123a45360",
   "metadata": {},
   "outputs": [
    {
     "name": "stdout",
     "output_type": "stream",
     "text": [
      "Given array is 1 3 0 2 \n",
      "Modified array is 2 0 3 1 "
     ]
    }
   ],
   "source": [
    "def rearrangeNaive(arr, n):\n",
    " \n",
    "    # Create an auxiliary array \n",
    "    # of same size\n",
    "    temp = [0] * n\n",
    "     \n",
    "    # Store result in temp[]\n",
    "    for i in range(0, n):\n",
    "        temp[arr[i]] = i\n",
    " \n",
    "    # Copy temp back to arr[]\n",
    "    for i in range(0, n):\n",
    "        arr[i] = temp[i]\n",
    " \n",
    " \n",
    "    # A utility function to print\n",
    "    # contents of arr[0..n-1]\n",
    "def printArray(arr, n):\n",
    "    for i in range(0, n):\n",
    "        print(arr[i], end = \" \")\n",
    " \n",
    "# Driver program\n",
    "arr = [1, 3, 0, 2]\n",
    "n = len(arr)\n",
    "print(\"Given array is\", end = \" \")\n",
    "printArray(arr, n)\n",
    " \n",
    "rearrangeNaive(arr, n)\n",
    "print(\"\\nModified array is\", end = \" \")\n",
    "printArray(arr, n)"
   ]
  },
  {
   "cell_type": "markdown",
   "id": "a39e5d97-2770-4358-86f3-3e0a81f990a3",
   "metadata": {},
   "source": [
    "Problem 6 : Sum of Digits\n",
    "\n",
    "Write a recursive function to calculate the sum of digits of a given positive integer.\n",
    "sum_of_digits(123) -> 6"
   ]
  },
  {
   "cell_type": "code",
   "execution_count": 9,
   "id": "56633b86-c830-485e-ac2d-6ce231cf2a75",
   "metadata": {},
   "outputs": [
    {
     "name": "stdout",
     "output_type": "stream",
     "text": [
      "Sum of digits in 12345 is 15\n"
     ]
    }
   ],
   "source": [
    "def sum_of_digit( n ):\n",
    "    if n == 0:\n",
    "        return 0\n",
    "    return (n % 10 + sum_of_digit(int(n / 10)))\n",
    " \n",
    "# Driven code to check above\n",
    "num = 12345\n",
    "result = sum_of_digit(num)\n",
    "print(\"Sum of digits in\",num,\"is\", result)"
   ]
  },
  {
   "cell_type": "markdown",
   "id": "1ab0145c-77b5-460d-8e77-8c390d9cae04",
   "metadata": {},
   "source": [
    "Problem 7: Fibonacci Series\n",
    "Write a recursive function to generate the first n numbers of the Fibonacci series.\n",
    "fibonacci_series(6) -> [0, 1, 1, 2, 3, 5]"
   ]
  },
  {
   "cell_type": "code",
   "execution_count": 10,
   "id": "63b32673-f850-44e3-9419-61112fd52c85",
   "metadata": {},
   "outputs": [
    {
     "name": "stdout",
     "output_type": "stream",
     "text": [
      "0 1 1 2 3 5 8 "
     ]
    }
   ],
   "source": [
    "def fibonacci_numbers(num):\n",
    "    if num == 0:\n",
    "        return 0\n",
    "    elif num == 1:\n",
    "        return 1\n",
    "    else:\n",
    "        # printing fibonacci numbers\n",
    "        return fibonacci_numbers(num-2)+fibonacci_numbers(num-1)\n",
    " \n",
    " \n",
    "n = 7\n",
    "for i in range(0, n):\n",
    "    print(fibonacci_numbers(i), end=\" \")"
   ]
  },
  {
   "cell_type": "markdown",
   "id": "34014d4e-5716-4093-b3e9-9981839bc23a",
   "metadata": {},
   "source": [
    "Problem 8 : Subset Sum\n",
    "Given a set of positive integers and a target sum, write a recursive function to determine if there exists a subset\n",
    "of the integers that adds up to the target sum.\n",
    "subset_sum([3, 34, 4, 12, 5, 2], 9) -> True"
   ]
  },
  {
   "cell_type": "code",
   "execution_count": 11,
   "id": "696e509a-213d-4816-a6e2-2326c4526992",
   "metadata": {},
   "outputs": [
    {
     "name": "stdout",
     "output_type": "stream",
     "text": [
      "Found a subset with given sum\n"
     ]
    }
   ],
   "source": [
    "def isSubsetSum(set, n, sum):\n",
    " \n",
    "    # Base Cases\n",
    "    if (sum == 0):\n",
    "        return True\n",
    "    if (n == 0):\n",
    "        return False\n",
    " \n",
    "    # If last element is greater than\n",
    "    # sum, then ignore it\n",
    "    if (set[n - 1] > sum):\n",
    "        return isSubsetSum(set, n - 1, sum)\n",
    " \n",
    "    # Else, check if sum can be obtained\n",
    "    # by any of the following\n",
    "    # (a) including the last element\n",
    "    # (b) excluding the last element\n",
    "    return isSubsetSum(\n",
    "        set, n-1, sum) or isSubsetSum(\n",
    "        set, n-1, sum-set[n-1])\n",
    " \n",
    " \n",
    "# Driver code\n",
    "if __name__ == '__main__':\n",
    "    set = [3, 34, 4, 12, 5, 2]\n",
    "    sum = 9\n",
    "    n = len(set)\n",
    "    if (isSubsetSum(set, n, sum) == True):\n",
    "        print(\"Found a subset with given sum\")\n",
    "    else:\n",
    "        print(\"No subset with given sum\")"
   ]
  },
  {
   "cell_type": "markdown",
   "id": "67370e4a-8e04-41c8-a49f-b880471e2618",
   "metadata": {},
   "source": [
    "Problem 9: Word Break\n",
    "Given a non-empty string and a dictionary of words, write a recursive function to determine if the string can be\n",
    "segmented into a space-separated sequence of dictionary words.\n",
    "word_break( leetcode , [ leet , code ]) -> True"
   ]
  },
  {
   "cell_type": "code",
   "execution_count": 12,
   "id": "4cf9f4fb-633d-48b3-99f0-022028e6e0d4",
   "metadata": {},
   "outputs": [],
   "source": [
    "\n",
    "def wordBreak(wordList, word):\n",
    "    if word == '':\n",
    "        return True\n",
    "    else:\n",
    "        wordLen = len(word)\n",
    "        return any([(word[:i] in wordList) and wordBreak(wordList, word[i:]) for i in range(1, wordLen+1)])\n"
   ]
  },
  {
   "cell_type": "markdown",
   "id": "1e2a84ad-7ec0-4150-ad5b-880908e34739",
   "metadata": {},
   "source": [
    "Problem 10 : N-Queens\n",
    "Implement a recursive function to solve the N Queens problem, where you have to place N queens on an N×N\n",
    "chessboard in such a way that no two queens threaten each other.\n",
    "n_queens(4)\n",
    "[\n",
    "[\".Q..\",\n",
    "\"...Q\",\n",
    "\"Q...\",\n",
    "\"..Q.\"],\n",
    "[\"..Q.\",\n",
    "\"Q...\",\n",
    "\"...Q\",\n",
    "\".Q..\"]\n",
    "]"
   ]
  },
  {
   "cell_type": "code",
   "execution_count": 13,
   "id": "5283f85e-4ff8-47bc-b1fc-a8155de94ec0",
   "metadata": {},
   "outputs": [
    {
     "name": "stdout",
     "output_type": "stream",
     "text": [
      ". . Q . \n",
      "Q . . . \n",
      ". . . Q \n",
      ". Q . . \n"
     ]
    }
   ],
   "source": [
    "global N\n",
    "N = 4\n",
    " \n",
    " \n",
    "def printSolution(board):\n",
    "    for i in range(N):\n",
    "        for j in range(N):\n",
    "            if board[i][j] == 1:\n",
    "                print(\"Q\",end=\" \")\n",
    "            else:\n",
    "                print(\".\",end=\" \")\n",
    "        print()\n",
    " \n",
    " \n",
    "# A utility function to check if a queen can\n",
    "# be placed on board[row][col]. Note that this\n",
    "# function is called when \"col\" queens are\n",
    "# already placed in columns from 0 to col -1.\n",
    "# So we need to check only left side for\n",
    "# attacking queens\n",
    "def isSafe(board, row, col):\n",
    " \n",
    "    # Check this row on left side\n",
    "    for i in range(col):\n",
    "        if board[row][i] == 1:\n",
    "            return False\n",
    " \n",
    "    # Check upper diagonal on left side\n",
    "    for i, j in zip(range(row, -1, -1),\n",
    "                    range(col, -1, -1)):\n",
    "        if board[i][j] == 1:\n",
    "            return False\n",
    " \n",
    "    # Check lower diagonal on left side\n",
    "    for i, j in zip(range(row, N, 1),\n",
    "                    range(col, -1, -1)):\n",
    "        if board[i][j] == 1:\n",
    "            return False\n",
    " \n",
    "    return True\n",
    " \n",
    " \n",
    "def solveNQUtil(board, col):\n",
    " \n",
    "    # Base case: If all queens are placed\n",
    "    # then return true\n",
    "    if col >= N:\n",
    "        return True\n",
    " \n",
    "    # Consider this column and try placing\n",
    "    # this queen in all rows one by one\n",
    "    for i in range(N):\n",
    " \n",
    "        if isSafe(board, i, col):\n",
    " \n",
    "            # Place this queen in board[i][col]\n",
    "            board[i][col] = 1\n",
    " \n",
    "            # Recur to place rest of the queens\n",
    "            if solveNQUtil(board, col + 1) == True:\n",
    "                return True\n",
    " \n",
    "            # If placing queen in board[i][col\n",
    "            # doesn't lead to a solution, then\n",
    "            # queen from board[i][col]\n",
    "            board[i][col] = 0\n",
    " \n",
    "    # If the queen can not be placed in any row in\n",
    "    # this column col then return false\n",
    "    return False\n",
    " \n",
    " \n",
    "# This function solves the N Queen problem using\n",
    "# Backtracking. It mainly uses solveNQUtil() to\n",
    "# solve the problem. It returns false if queens\n",
    "# cannot be placed, otherwise return true and\n",
    "# placement of queens in the form of 1s.\n",
    "# note that there may be more than one\n",
    "# solutions, this function prints one of the\n",
    "# feasible solutions.\n",
    "def solveNQ():\n",
    "    board = [[0, 0, 0, 0],\n",
    "             [0, 0, 0, 0],\n",
    "             [0, 0, 0, 0],\n",
    "             [0, 0, 0, 0]]\n",
    " \n",
    "    if solveNQUtil(board, 0) == False:\n",
    "        print(\"Solution does not exist\")\n",
    "        return False\n",
    " \n",
    "    printSolution(board)\n",
    "    return True\n",
    " \n",
    " \n",
    "# Driver Code\n",
    "if __name__ == '__main__':\n",
    "    solveNQ()"
   ]
  },
  {
   "cell_type": "code",
   "execution_count": null,
   "id": "c75a60d4-e55c-45ce-bca1-9293513a62d9",
   "metadata": {},
   "outputs": [],
   "source": []
  }
 ],
 "metadata": {
  "kernelspec": {
   "display_name": "Python 3 (ipykernel)",
   "language": "python",
   "name": "python3"
  },
  "language_info": {
   "codemirror_mode": {
    "name": "ipython",
    "version": 3
   },
   "file_extension": ".py",
   "mimetype": "text/x-python",
   "name": "python",
   "nbconvert_exporter": "python",
   "pygments_lexer": "ipython3",
   "version": "3.10.8"
  }
 },
 "nbformat": 4,
 "nbformat_minor": 5
}
